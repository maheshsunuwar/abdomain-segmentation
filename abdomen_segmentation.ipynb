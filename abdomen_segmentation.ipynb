{
 "cells": [
  {
   "cell_type": "code",
   "execution_count": 4,
   "id": "333e5cc4-e014-47b1-9694-7532a17ca8af",
   "metadata": {},
   "outputs": [],
   "source": [
    "from secret_key import synapse_key\n",
    "\n"
   ]
  },
  {
   "cell_type": "markdown",
   "id": "79e96bd7-7f1b-4d40-b23e-c8c66272cd96",
   "metadata": {},
   "source": [
    "### Download Data"
   ]
  },
  {
   "cell_type": "code",
   "execution_count": null,
   "id": "616950e2-4466-403e-9a65-c2e102387f50",
   "metadata": {},
   "outputs": [
    {
     "name": "stdout",
     "output_type": "stream",
     "text": [
      "Welcome,  !\n",
      "\n"
     ]
    },
    {
     "name": "stderr",
     "output_type": "stream",
     "text": [
      "Downloading files:   0%|                                         | 0.00/1.00 [00:00<?, ?B/s]"
     ]
    },
    {
     "name": "stdout",
     "output_type": "stream",
     "text": [
      "Syncing Project (syn3193805:Multi-Atlas Labeling Beyond the Cranial Vault - Workshop and Challenge) from Synapse.\n"
     ]
    },
    {
     "name": "stderr",
     "output_type": "stream",
     "text": [
      "Downloading files:   0%|                                         | 0.00/1.00 [00:00<?, ?B/s]"
     ]
    },
    {
     "name": "stdout",
     "output_type": "stream",
     "text": [
      "Syncing Folder (syn3376386:Abdomen) from Synapse.\n"
     ]
    },
    {
     "name": "stderr",
     "output_type": "stream",
     "text": [
      "Downloading files:   0%|                                         | 0.00/1.00 [00:00<?, ?B/s]"
     ]
    },
    {
     "name": "stdout",
     "output_type": "stream",
     "text": [
      "Syncing Folder (syn10285076:averaged-training-labels) from Synapse.\n"
     ]
    },
    {
     "name": "stderr",
     "output_type": "stream",
     "text": [
      "Downloading files:   0%|                                         | 0.00/1.00 [00:00<?, ?B/s]"
     ]
    },
    {
     "name": "stdout",
     "output_type": "stream",
     "text": [
      "Syncing Folder (syn10285054:averaged-training-images) from Synapse.\n"
     ]
    },
    {
     "name": "stderr",
     "output_type": "stream",
     "text": [
      "Downloading files:   0%|                                         | 0.00/1.00 [00:00<?, ?B/s]"
     ]
    },
    {
     "name": "stdout",
     "output_type": "stream",
     "text": [
      "Syncing Folder (syn3378972:Cervix) from Synapse.\n"
     ]
    },
    {
     "name": "stderr",
     "output_type": "stream",
     "text": [
      "Downloading files:   0%|                                         | 0.00/1.00 [00:00<?, ?B/s]"
     ]
    },
    {
     "name": "stdout",
     "output_type": "stream",
     "text": [
      "Syncing Folder (syn10284975:averaged-testing-images) from Synapse.\n"
     ]
    },
    {
     "name": "stderr",
     "output_type": "stream",
     "text": [
      "Downloading files:  31%|█████████▋                     | 2.35k/7.54k [00:01<00:04, 1.28kB/s]"
     ]
    },
    {
     "name": "stdout",
     "output_type": "stream",
     "text": [
      "Downloaded syn10285172 to /Users/socms/.synapseCache/862/16945862/DET0001201_avg_seg.nii.gz\n"
     ]
    },
    {
     "name": "stderr",
     "output_type": "stream",
     "text": [
      "Downloading files: 100%|███████████████████████████████| 13.2k/13.2k [00:01<00:00, 7.04kB/s]"
     ]
    },
    {
     "name": "stdout",
     "output_type": "stream",
     "text": [
      "Downloaded syn10285098 to /Users/socms/.synapseCache/786/16945786/DET0002601_avg_seg.nii.gz\n"
     ]
    },
    {
     "name": "stderr",
     "output_type": "stream",
     "text": [
      "Downloading files: 100%|███████████████████████████████| 13.2k/13.2k [00:01<00:00, 7.03kB/s]"
     ]
    },
    {
     "name": "stdout",
     "output_type": "stream",
     "text": [
      "Downloaded syn10285209 to /Users/socms/.synapseCache/900/16945900/DET0001701_avg_seg.nii.gz\n"
     ]
    },
    {
     "name": "stderr",
     "output_type": "stream",
     "text": [
      "Downloading files: 100%|███████████████████████████████| 13.2k/13.2k [00:01<00:00, 7.01kB/s]"
     ]
    },
    {
     "name": "stdout",
     "output_type": "stream",
     "text": [
      "Downloaded syn10285211 to /Users/socms/.synapseCache/902/16945902/DET0000201_avg_seg.nii.gz\n"
     ]
    },
    {
     "name": "stderr",
     "output_type": "stream",
     "text": [
      "Downloading files: 100%|███████████████████████████████| 13.2k/13.2k [00:01<00:00, 6.91kB/s]"
     ]
    },
    {
     "name": "stdout",
     "output_type": "stream",
     "text": [
      "Downloaded syn10285138 to /Users/socms/.synapseCache/828/16945828/DET0000801_avg_seg.nii.gz\n"
     ]
    },
    {
     "name": "stderr",
     "output_type": "stream",
     "text": [
      "Downloading files: 100%|███████████████████████████████| 13.2k/13.2k [00:01<00:00, 6.88kB/s]"
     ]
    },
    {
     "name": "stdout",
     "output_type": "stream",
     "text": [
      "Downloaded syn10285224 to /Users/socms/.synapseCache/916/16945916/DET0000101_avg_seg.nii.gz\n"
     ]
    },
    {
     "name": "stderr",
     "output_type": "stream",
     "text": [
      "Downloading files:   6%|█▉                              | 20.2k/330k [00:02<00:33, 9.31kB/s]"
     ]
    },
    {
     "name": "stdout",
     "output_type": "stream",
     "text": [
      "Downloaded syn10285102 to /Users/socms/.synapseCache/792/16945792/DET0003301_avg_seg.nii.gz\n"
     ]
    },
    {
     "name": "stderr",
     "output_type": "stream",
     "text": [
      "Downloading files:  32%|██████████▋                      | 333k/1.03M [00:02<00:04, 147kB/s]"
     ]
    },
    {
     "name": "stdout",
     "output_type": "stream",
     "text": [
      "Downloaded syn10285221 to /Users/socms/.synapseCache/913/16945913/DET0001501_avg_seg.nii.gz\n"
     ]
    },
    {
     "name": "stderr",
     "output_type": "stream",
     "text": [
      "Downloading files:  32%|██████████▋                      | 333k/1.03M [00:02<00:04, 147kB/s]"
     ]
    },
    {
     "name": "stdout",
     "output_type": "stream",
     "text": [
      "Downloaded syn10285040 to /Users/socms/.synapseCache/736/16945736/DET0008301_avg.nii.gz\n"
     ]
    },
    {
     "name": "stderr",
     "output_type": "stream",
     "text": [
      "Downloading files:  45%|██████████████▊                  | 584k/1.30M [00:02<00:02, 252kB/s]"
     ]
    },
    {
     "name": "stdout",
     "output_type": "stream",
     "text": [
      "Downloaded syn10285044 to /Users/socms/.synapseCache/740/16945740/DET0007301_avg.nii.gz\n"
     ]
    },
    {
     "name": "stderr",
     "output_type": "stream",
     "text": [
      "Downloading files:  79%|█████████████████████████▎      | 1.03M/1.30M [00:02<00:00, 444kB/s]"
     ]
    },
    {
     "name": "stdout",
     "output_type": "stream",
     "text": [
      "Downloaded syn10285043 to /Users/socms/.synapseCache/739/16945739/DET0000301_avg.nii.gz\n"
     ]
    },
    {
     "name": "stderr",
     "output_type": "stream",
     "text": [
      "Downloading files:   0%|                                | 1.31M/1.65G [00:02<50:16, 545kB/s]"
     ]
    },
    {
     "name": "stdout",
     "output_type": "stream",
     "text": [
      "Downloaded syn10285045 to /Users/socms/.synapseCache/741/16945741/DET0007501_avg.nii.gz\n"
     ]
    },
    {
     "name": "stderr",
     "output_type": "stream",
     "text": [
      "Downloading files:   0%|                                | 1.31M/1.65G [00:02<50:46, 540kB/s]"
     ]
    },
    {
     "name": "stdout",
     "output_type": "stream",
     "text": [
      "Downloaded syn10285148 to /Users/socms/.synapseCache/838/16945838/DET0005701_avg_seg.nii.gz\n"
     ]
    },
    {
     "name": "stderr",
     "output_type": "stream",
     "text": [
      "Downloading files:   0%|                                | 1.31M/1.65G [00:02<50:51, 539kB/s]"
     ]
    },
    {
     "name": "stdout",
     "output_type": "stream",
     "text": [
      "Downloaded syn10285096 to /Users/socms/.synapseCache/784/16945784/DET0001801_avg_seg.nii.gz\n"
     ]
    },
    {
     "name": "stderr",
     "output_type": "stream",
     "text": [
      "Downloading files:   0%|                                | 1.51M/1.65G [00:02<44:38, 614kB/s]"
     ]
    },
    {
     "name": "stdout",
     "output_type": "stream",
     "text": [
      "Downloaded syn10285042 to /Users/socms/.synapseCache/738/16945738/DET0000701_avg.nii.gz\n"
     ]
    },
    {
     "name": "stderr",
     "output_type": "stream",
     "text": [
      "Downloading files:   0%|                                | 1.51M/1.65G [00:02<44:42, 613kB/s]"
     ]
    },
    {
     "name": "stdout",
     "output_type": "stream",
     "text": [
      "Downloaded syn10285185 to /Users/socms/.synapseCache/876/16945876/DET0001301_avg_seg.nii.gz\n"
     ]
    },
    {
     "name": "stderr",
     "output_type": "stream",
     "text": [
      "Downloading files:   0%|                                | 1.74M/1.65G [00:02<39:42, 690kB/s]"
     ]
    },
    {
     "name": "stdout",
     "output_type": "stream",
     "text": [
      "Downloaded syn10285047 to /Users/socms/.synapseCache/743/16945743/DET0007601_avg.nii.gz\n"
     ]
    },
    {
     "name": "stderr",
     "output_type": "stream",
     "text": [
      "Downloading files:   0%|                             | 2.04M/41.7G [00:02<15:30:59, 747kB/s]"
     ]
    },
    {
     "name": "stdout",
     "output_type": "stream",
     "text": [
      "Downloaded syn10285206 to /Users/socms/.synapseCache/897/16945897/DET0001101_avg_seg.nii.gz\n"
     ]
    },
    {
     "name": "stderr",
     "output_type": "stream",
     "text": [
      "Downloading files:   0%|                             | 2.04M/41.7G [00:02<16:35:49, 698kB/s]"
     ]
    },
    {
     "name": "stdout",
     "output_type": "stream",
     "text": [
      "Downloaded syn10285046 to /Users/socms/.synapseCache/742/16945742/DET0007401_avg.nii.gz\n"
     ]
    },
    {
     "name": "stderr",
     "output_type": "stream",
     "text": [
      "Downloading files:   1%|▍                               | 1.55G/106G [00:39<44:16, 39.4MB/s]"
     ]
    },
    {
     "name": "stdout",
     "output_type": "stream",
     "text": [
      "Downloaded syn10285035 to /Users/socms/.synapseCache/731/16945731/DET0007801_avg.nii.gz\n"
     ]
    },
    {
     "name": "stderr",
     "output_type": "stream",
     "text": [
      "Downloading files:   1%|▍                               | 1.55G/106G [00:39<44:19, 39.4MB/s]"
     ]
    },
    {
     "name": "stdout",
     "output_type": "stream",
     "text": [
      "Downloaded syn10285123 to /Users/socms/.synapseCache/813/16945813/DET0002401_avg_seg.nii.gz\n"
     ]
    },
    {
     "name": "stderr",
     "output_type": "stream",
     "text": [
      "Downloading files:   1%|▍                               | 1.55G/106G [00:39<44:20, 39.4MB/s]"
     ]
    },
    {
     "name": "stdout",
     "output_type": "stream",
     "text": [
      "Downloaded syn10285182 to /Users/socms/.synapseCache/873/16945873/DET0003901_avg_seg.nii.gz\n"
     ]
    },
    {
     "name": "stderr",
     "output_type": "stream",
     "text": [
      "Downloading files:   1%|▍                               | 1.55G/106G [00:39<44:21, 39.4MB/s]"
     ]
    },
    {
     "name": "stdout",
     "output_type": "stream",
     "text": [
      "Downloaded syn10285100 to /Users/socms/.synapseCache/789/16945789/DET0005001_avg_seg.nii.gz\n"
     ]
    },
    {
     "name": "stderr",
     "output_type": "stream",
     "text": [
      "Downloading files:   2%|▌                               | 1.82G/106G [00:45<43:41, 39.9MB/s]"
     ]
    },
    {
     "name": "stdout",
     "output_type": "stream",
     "text": [
      "Downloaded syn3379050 to /Users/socms/.synapseCache/505/2279505/RawData.zip\n"
     ]
    },
    {
     "name": "stderr",
     "output_type": "stream",
     "text": [
      "Downloading files:  17%|█████▍                          | 17.9G/106G [06:59<34:29, 42.7MB/s]"
     ]
    }
   ],
   "source": [
    " import synapseclient \n",
    " import synapseutils \n",
    " \n",
    " syn = synapseclient.Synapse() \n",
    " syn.login(authToken=synapse_key) \n",
    " files = synapseutils.syncFromSynapse(syn, 'syn3193805')"
   ]
  },
  {
   "cell_type": "code",
   "execution_count": null,
   "id": "fc486063-414c-45ea-9f9d-8d076d7ba868",
   "metadata": {},
   "outputs": [],
   "source": []
  }
 ],
 "metadata": {
  "kernelspec": {
   "display_name": "Python 3 (ipykernel)",
   "language": "python",
   "name": "python3"
  },
  "language_info": {
   "codemirror_mode": {
    "name": "ipython",
    "version": 3
   },
   "file_extension": ".py",
   "mimetype": "text/x-python",
   "name": "python",
   "nbconvert_exporter": "python",
   "pygments_lexer": "ipython3",
   "version": "3.10.14"
  }
 },
 "nbformat": 4,
 "nbformat_minor": 5
}
